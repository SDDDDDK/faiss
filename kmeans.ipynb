{
 "cells": [
  {
   "cell_type": "markdown",
   "metadata": {
    "colab_type": "text",
    "id": "o2TkTHlI0wxU"
   },
   "source": [
    "## k-means Clustering\n",
    "クラスタの数を$k$として、以下のアルゴリズムでクラスタリングを行う。\n",
    "\n",
    "1. 各データ点$x_1, \\ldots, x_n$に対してランダムにクラスタを割り振る。\n",
    "2. 割り振ったデータ点の中心（多くは算術平均）$V_1, \\ldots, V_k$を求める。\n",
    "3. $x_i$と$V_j$を比較して$x_i$を最も近い中心のクラスタに割り当てる\n",
    "4. 上記を指定したiterationか割り当てが収束したと判定されるまで繰り返す。\n",
    "\n",
    "（参考: [wikipedia](https://ja.wikipedia.org/?curid=74044))"
   ]
  },
  {
   "cell_type": "code",
   "execution_count": null,
   "metadata": {
    "colab": {},
    "colab_type": "code",
    "id": "zD_A5yvW9bn6"
   },
   "outputs": [],
   "source": [
    "# prepare data\n",
    "n = 100000\n",
    "d = 64\n",
    "x = np.random.random((n, d)).astype('float32')\n",
    "x[:, 0] += np.arange(n) / 1000."
   ]
  },
  {
   "cell_type": "markdown",
   "metadata": {
    "colab_type": "text",
    "id": "f_LbK-qi5BAt"
   },
   "source": [
    "### kmeans\n",
    "L2ノルムを近さの基準とした配列。([他の基準](https://github.com/facebookresearch/faiss/wiki/Faiss-indexes))\n",
    "\n",
    "```python\n",
    "import faiss\n",
    "clus = faiss.Clustering(d, k)\n",
    "```\n",
    "\n",
    "params: \n",
    "- `d`: `int`, ベクトルの次元(dimension of each vector)\n",
    "- `k`: `int`, クラスタの数(=中心点の個数)(number of clusters)\n",
    "\n",
    "instance:\n",
    "- `.verbose`: `bool=False`, ログを表示するか(whether display log)\n",
    "- `.niter`: `int=25`, イテレーション(iteration)\n",
    "- `.max_points_per_centroid`: `int=256`, 各クラスタに登録されるデータ点の最大数(max points per centroid)\n",
    "- `.centroids`: `faiss.swigfaiss_gpu.FloatVector`, 中心点のデータ(resulting centroids), `shape=(k, d)`\n",
    "- `.obj`: `faiss.swigfaiss_gpu.FloatVector`,  イテレーションとその時の目的関数の値(values of the objective function along iterations), `shape=(niter)`\n",
    "- `.train(x, index_ceontroids)`:  kmeansを実行する(append vectors to the index)\n",
    "  - params:\n",
    "     - `x`: `np.ndarray`, `n`個のベクトルを格納した配列(database of vectors), `shape=(n, d)`\n",
    "     - `index_centroids`: `faiss.GpuIndexFlatL2`, 中心点のデータに対するインデックス配列"
   ]
  },
  {
   "cell_type": "code",
   "execution_count": null,
   "metadata": {
    "colab": {},
    "colab_type": "code",
    "id": "Bjw27H-VDVeF"
   },
   "outputs": [],
   "source": [
    "# prepare gpu index\n",
    "res = faiss.StandardGpuResources()\n",
    "flat_config = faiss.GpuIndexFlatConfig()\n",
    "index_centroids = faiss.GpuIndexFlatL2(res, d, flat_config)"
   ]
  },
  {
   "cell_type": "code",
   "execution_count": null,
   "metadata": {
    "colab": {},
    "colab_type": "code",
    "id": "Yo5uku03EuSZ"
   },
   "outputs": [],
   "source": [
    "# run k-means clustering\n",
    "k = 1000\n",
    "clus = faiss.Clustering(d, k)\n",
    "clus.verbose = False\n",
    "clus.niter = 20\n",
    "clus.max_points_per_centroid = 100000\n",
    "clus.train(x, index_centroids)"
   ]
  },
  {
   "cell_type": "markdown",
   "metadata": {},
   "source": [
    "#### 便利関数\n",
    "\n",
    "```\n",
    "faiss.vector_float_to_array(vector)\n",
    "```\n",
    "\n",
    "params:\n",
    "- `vector`: `faiss.swigfaiss_gpu.FloatVector`, ベクトル, `shape=(n*d)`\n",
    "\n",
    "return:\n",
    "- `array`: `np.ndarray`, 1次元numpy配列, `shape=(n*d)`\n",
    "\n",
    "普通は出力を`array.reshape(n, d)`として、形を整える。"
   ]
  },
  {
   "cell_type": "code",
   "execution_count": null,
   "metadata": {
    "colab": {
     "base_uri": "https://localhost:8080/",
     "height": 289
    },
    "colab_type": "code",
    "executionInfo": {
     "elapsed": 472,
     "status": "ok",
     "timestamp": 1541748068024,
     "user": {
      "displayName": "長田光喜",
      "photoUrl": "",
      "userId": "05927264315620003385"
     },
     "user_tz": -540
    },
    "id": "OgIAl1edE-9d",
    "outputId": "12841eed-f0fd-4bf2-efb2-a6785c0d9345"
   },
   "outputs": [
    {
     "name": "stdout",
     "output_type": "stream",
     "text": [
      "[[79.60448     0.5593583   0.4300954  ...  0.5860559   0.50424546\n",
      "   0.44380125]\n",
      " [42.66248     0.6328918   0.4065965  ...  0.40675142  0.42998046\n",
      "   0.57096714]\n",
      " [36.276512    0.51245147  0.56459254 ...  0.6085555   0.4264428\n",
      "   0.42930868]\n",
      " ...\n",
      " [ 3.5409474   0.54657286  0.49638352 ...  0.5877457   0.37224233\n",
      "   0.4481677 ]\n",
      " [31.704718    0.5278905   0.41830444 ...  0.4697383   0.443506\n",
      "   0.29364893]\n",
      " [ 7.4414115   0.3552784   0.46254358 ...  0.6049498   0.62158626\n",
      "   0.3990567 ]]\n",
      "[806450.6  506579.47 500436.5  498116.9  496898.84 496151.28 495626.9\n",
      " 495243.25 494955.47 494740.2  494569.3  494442.3  494325.16 494236.\n",
      " 494164.16 494097.1  494051.66 494013.53 493977.6  493946.9 ]\n"
     ]
    }
   ],
   "source": [
    "# faiss vector to np.ndarray\n",
    "print(faiss.vector_float_to_array(clus.centroids).reshape(k, d))\n",
    "print(faiss.vector_float_to_array(clus.obj))"
   ]
  },
  {
   "cell_type": "markdown",
   "metadata": {},
   "source": [
    "#### 結果を見る\n",
    "データ点`x`がどの中心点のクラスタに属するかを求めるには中心点のデータ`clus.centroids`に対応するインデックス配列`index_centroids`を使用して`.search(x, 1)`を行うことで求められる。\n",
    "\n",
    "また、中心点に最も近いデータを求める場合は、逆に`x`に対応するインデックス配列`index`を用意して、`index.search(faiss.vector_to_array(clus.centroids).reshape(k, d), 1)`とすれば良い。"
   ]
  },
  {
   "cell_type": "code",
   "execution_count": null,
   "metadata": {},
   "outputs": [],
   "source": [
    "D, I = index_centroids.search(x, 1)"
   ]
  },
  {
   "cell_type": "code",
   "execution_count": null,
   "metadata": {},
   "outputs": [],
   "source": [
    "print(I[:5])\n",
    "print(D[:5])"
   ]
  },
  {
   "cell_type": "code",
   "execution_count": null,
   "metadata": {
    "colab": {},
    "colab_type": "code",
    "id": "5-58CDlsJ-Xl"
   },
   "outputs": [],
   "source": [
    "# data point nearest to each centroids\n",
    "index = faiss.GpuIndexFlatL2(res, d, flat_config)\n",
    "index.add(x)\n",
    "D_nearest, I_nearest = index.search(faiss.vector_to_array(clus.centroids).reshape(k, d), 1)"
   ]
  },
  {
   "cell_type": "code",
   "execution_count": null,
   "metadata": {
    "colab": {
     "base_uri": "https://localhost:8080/",
     "height": 187
    },
    "colab_type": "code",
    "executionInfo": {
     "elapsed": 1012,
     "status": "ok",
     "timestamp": 1541748075962,
     "user": {
      "displayName": "長田光喜",
      "photoUrl": "",
      "userId": "05927264315620003385"
     },
     "user_tz": -540
    },
    "id": "vXKQ_DHGgkUX",
    "outputId": "b0480990-4df6-411e-af73-347a4c608680"
   },
   "outputs": [
    {
     "name": "stdout",
     "output_type": "stream",
     "text": [
      "[[309]\n",
      " [313]\n",
      " [397]\n",
      " [ 51]\n",
      " [753]]\n",
      "[[978]\n",
      " [363]\n",
      " [841]\n",
      " [987]\n",
      " [978]]\n"
     ]
    }
   ],
   "source": [
    "print(I_nearest[:5])\n",
    "print(D_nearest[:5])"
   ]
  }
 ],
 "metadata": {
  "kernelspec": {
   "display_name": "Python 3",
   "language": "python",
   "name": "python3"
  },
  "language_info": {
   "codemirror_mode": {
    "name": "ipython",
    "version": 3
   },
   "file_extension": ".py",
   "mimetype": "text/x-python",
   "name": "python",
   "nbconvert_exporter": "python",
   "pygments_lexer": "ipython3",
   "version": "3.6.5"
  }
 },
 "nbformat": 4,
 "nbformat_minor": 2
}
