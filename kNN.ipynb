{
 "cells": [
  {
   "cell_type": "markdown",
   "metadata": {
    "colab_type": "text",
    "id": "ULyzX6BqeIdn"
   },
   "source": [
    "## k近傍 k-Nearest Neighbor; k-NN\n",
    "$d$次元ベクトル空間内においてある未知のデータ点に対して既知のデータ点の中から（主にユークリッド距離で）近傍の$k$個の点を選出する。\n",
    "\n",
    "### データの用意\n",
    "まず、ベクトル空間の次元`d`を定義する。次に既知のデータ点を格納したデータベース配列と検索対象のデータ点を格納したデータ配列を定義する。\n",
    "\n",
    "![IndexFlatL2](./img/IndexFlatL2.png)"
   ]
  },
  {
   "cell_type": "code",
   "execution_count": 1,
   "metadata": {
    "colab": {},
    "colab_type": "code",
    "id": "p7LMRhZOo_ce"
   },
   "outputs": [],
   "source": [
    "# prepare data\n",
    "import time\n",
    "import numpy as np\n",
    "import faiss\n",
    "d = 64                         # ベクトルの次元(dimension)\n",
    "nb = 1000000                    # データベースのサイズ(database size)\n",
    "nq = 100000                     # クエリベクトルの数(nb of queries)\n",
    "np.random.seed(1234)\n",
    "xb = np.random.random((nb, d)).astype('float32')\n",
    "xb[:, 0] += np.arange(nb) / 1000.\n",
    "xq = np.random.random((nq, d)).astype('float32')\n",
    "xq[:, 0] += np.arange(nq) / 1000."
   ]
  },
  {
   "cell_type": "markdown",
   "metadata": {
    "colab_type": "text",
    "id": "l0H3zNB2VA1x"
   },
   "source": [
    "## Index配列\n",
    "\n",
    "### IndexFlatL2\n",
    "L2ノルムを近さの基準とした完全探索を行う配列。([他の基準](https://github.com/facebookresearch/faiss/wiki/Faiss-indexes))\n",
    "\n",
    "```python\n",
    "import faiss\n",
    "cpu_index = faiss.IndexFlatL2(d) # cpu使用時\n",
    "index = faiss.GpuIndexFlatL2(res, d, flat_config)\n",
    "```\n",
    "\n",
    "params:\n",
    "- `res`: `faiss.StandardGpuResources`\n",
    "- `d`: `int`, ベクトルの次元, dimension of each vector\n",
    "- `flat_config`: `faiss.GpuIndexFlatConfig`\n",
    "\n",
    "instance:\n",
    "- `.is_trained`: `bool=True`, 訓練モードかどうか(whether training is required)（`IndexFlatL2`では関係ない）\n",
    "- `.ntotal`: `int`,  ベクトルの数(number of vectors)\n",
    "- `.add(x)`:  ベクトルを追加する(append vectors to the index)\n",
    "  - params:\n",
    "     - `x`: `np.ndarray`, `nb`個のベクトルを格納した配列(database of vectors), `shape = (nb, d)`\n",
    "- `.search(q, k)`: クエリベクトル`q[i]`に近い`k`個のベクトルを返す(return vectors k nearest neighbors in the database)\n",
    "  - params:\n",
    "    - `q`: `np.ndarray`, `nq`個のクエリベクトルを格納した配列(query vectors), `shape=(nq, d)`\n",
    "    - `k`: `int`, 返す近傍点の数(number of return neighbors)\n",
    "  - return:\n",
    "    - `D`: `np.ndarray`, 各近傍点のクエリからの距離, `shape=(nq, k)`\n",
    "    - `I`: `np.ndarray`, 各近傍点のインデックス, `shape=(nq, k)`\n",
    "![search return](./img/search_returnDI.png)\n",
    "\n",
    "#### GPU使用時のパラメータを得るには\n",
    "```python\n",
    "res = faiss.StandardGpuResources() # resource\n",
    "```\n",
    "\n",
    "return:\n",
    "- `faiss.StandardGpuResources`, GPUリソース(GPU resources)\n",
    "\n",
    "```python\n",
    "flat_config = faiss.GpuIndexFlatConfig()\n",
    "flat_config.useFloat16 = False\n",
    "flat_config.device = i\n",
    "```\n",
    "\n",
    "instance:\n",
    "- `useFloat16`: `bool=False`, 16bitか32bitか(whether 16 or 32bits)\n",
    "- `device`: `int=0`, GPUのID(gpu id)\n",
    "\n",
    "return:\n",
    "- `faiss.GpuIndexFlatConfig`, GPUの設定(GPU config) "
   ]
  },
  {
   "cell_type": "code",
   "execution_count": 2,
   "metadata": {
    "colab": {
     "base_uri": "https://localhost:8080/",
     "height": 425
    },
    "colab_type": "code",
    "executionInfo": {
     "elapsed": 51386,
     "status": "ok",
     "timestamp": 1541748030211,
     "user": {
      "displayName": "長田光喜",
      "photoUrl": "",
      "userId": "05927264315620003385"
     },
     "user_tz": -540
    },
    "id": "CGHLSGjzr3qq",
    "outputId": "13f252c2-0013-4526-e90c-ea6cd2a1a527"
   },
   "outputs": [
    {
     "name": "stdout",
     "output_type": "stream",
     "text": [
      "BUILD THE INDEX\n",
      "True\n",
      "1000000\n",
      "SEARCH KNN\n",
      "[[  0 393 363  78]\n",
      " [  1 555 277 364]\n",
      " [  2 304 101  13]\n",
      " [  3 173  18 182]\n",
      " [  4 288 370 531]]\n",
      "[[-3.8146973e-06  7.1751747e+00  7.2076283e+00  7.2511635e+00]\n",
      " [ 0.0000000e+00  6.3235664e+00  6.6845760e+00  6.7999439e+00]\n",
      " [-3.8146973e-06  5.7964096e+00  6.3917313e+00  7.2815094e+00]\n",
      " [ 0.0000000e+00  7.2779083e+00  7.5279884e+00  7.6628475e+00]\n",
      " [ 0.0000000e+00  6.7638016e+00  7.2951202e+00  7.3688164e+00]]\n",
      "[[ 99270 100884  99779 100369]\n",
      " [ 99676  99024  99952  99431]\n",
      " [100445 100135  99779  99899]\n",
      " [100429  99859  99039 100219]\n",
      " [ 99691 100457 100337  99105]]\n",
      "[[7.069336  7.2216797 7.2304688 7.288086 ]\n",
      " [5.9853516 6.0634766 6.2578125 6.4414062]\n",
      " [7.2841797 7.3164062 7.493164  7.5976562]\n",
      " [6.6367188 7.2001953 7.213867  7.260742 ]\n",
      " [5.458008  5.864258  6.4208984 6.4296875]]\n",
      "time: 8.5036780834198\n"
     ]
    }
   ],
   "source": [
    "# GpuIndexFlatL2オブジェクトを作成\n",
    "print(\"BUILD THE INDEX\")\n",
    "res = faiss.StandardGpuResources()\n",
    "flat_config = faiss.GpuIndexFlatConfig()\n",
    "index = faiss.GpuIndexFlatL2(res, d, flat_config) \n",
    "\n",
    "print(index.is_trained)\n",
    "\n",
    "#ベクトルを追加(append vectors to the index)\n",
    "index.add(xb)\n",
    "print(index.ntotal)\n",
    "\n",
    "print(\"SEARCH KNN\")\n",
    "k = 4 # 近傍点の個数kを決定(we want to see k nearest neighbors)\n",
    "\n",
    "# 動作確認(sanity check) -> Iの1列目が0, 1, 2, 3, 4、Dの1列目が0か0に近い値であるなら正常\n",
    "D, I = index.search(xb[:5], k)\n",
    "print(I)\n",
    "print(D)\n",
    "\n",
    "# 探索実行(search)\n",
    "s = time.time()\n",
    "D, I = index.search(xq, k)\n",
    "e = time.time()\n",
    "print(I[-5:])\n",
    "print(D[-5:])\n",
    "print(\"time: {}\".format(e-s))"
   ]
  },
  {
   "cell_type": "markdown",
   "metadata": {},
   "source": [
    "## 高速化\n",
    "### IndexIVFFlat\n",
    "`metric`で指定した基準に基づいて精度低下と引き換えに高速探索を行う。\n",
    "\n",
    "```python\n",
    "index = faiss.GpuIndexIVFFlat(res, d, nlist, metric, ivfflat_config)\n",
    "```\n",
    "\n",
    "params:\n",
    "- `res`: `faiss.StandardGpuResources`\n",
    "- `d`: `int`, ベクトルの次元(dimension of each vector)\n",
    "- `nlist`: `int`, ボロノイ領域の数(number of Voronoi cells)\n",
    "- `metric`: `int`, 距離基準(metric to search)\n",
    "    - `faiss.METRIC_INNER_PRODUCT=0`: コサイン類似度(デフォルト)\n",
    "    - `faiss.METRIC_L2=1`: L2ノルム\n",
    "- `ivfflat_config`: `faiss.GpuIndexIVFFlatConfig`\n",
    "\n",
    "instance:\n",
    "- `.is_trained`: `bool=True`, 訓練モードかどうか(whether training is required)\n",
    "- `.train(x)`: ボロノイ領域を学習する(train Voronoi cells)\n",
    "  - params:\n",
    "     - `x`: `np.ndarray`, `nb`個のベクトルを格納した配列(database of vectors), `shape = (nb, d)`\n",
    "- `.add(x)`:  ベクトルを追加する(append vectors to the index)\n",
    "- `.setNumProbes(nprobe)`: 検索するボロノイ領域の個数`nprobe`をセットする(set `nprobe`, the number of cells that are visited to perform a search)\n",
    "  - params:\n",
    "     - `n`: `int`, 検索するボロノイ領域の個数(the number of cells that are visited to perform a search)\n",
    "- `.search(q, k)`: クエリベクトル`q[i]`に近い`k`個のベクトルを返す(return vectors k nearest neighbors in the database)\n",
    "\n",
    "\n"
   ]
  },
  {
   "cell_type": "code",
   "execution_count": 3,
   "metadata": {},
   "outputs": [
    {
     "name": "stdout",
     "output_type": "stream",
     "text": [
      "train time: 0.18445420265197754\n",
      "[[ 99270 100884  99779 100369]\n",
      " [ 99676  99024  99952  99431]\n",
      " [100445 100135  99779  99899]\n",
      " [100429  99859  99039  99778]\n",
      " [ 99691 100457 100337  99105]]\n",
      "search time: 1.5525236129760742\n",
      "accuracy: 93.6%\n",
      "[[ 99270 100884  99779 100369]\n",
      " [ 99676  99024  99952  99431]\n",
      " [100445 100135  99779  99899]\n",
      " [100429  99859  99039  99778]\n",
      " [ 99691 100457 100337  99105]]\n",
      "search time: 17.26750946044922\n",
      "accuracy: 99.2%\n"
     ]
    }
   ],
   "source": [
    "nlist = 100\n",
    "k = 4\n",
    "res = faiss.StandardGpuResources()\n",
    "ivfflat_config = faiss.GpuIndexIVFFlatConfig()\n",
    "index = faiss.GpuIndexIVFFlat(res, d, nlist, faiss.METRIC_L2, ivfflat_config)\n",
    "       # here we specify METRIC_L2, by default it performs inner-product search\n",
    "\n",
    "assert not index.is_trained\n",
    "s = time.time()\n",
    "index.train(xb)\n",
    "e = time.time()\n",
    "print(\"train time: {}\".format(e-s))\n",
    "assert index.is_trained\n",
    "\n",
    "index.add(xb)                  # add may be a bit slower as well\n",
    "s = time.time()\n",
    "index.setNumProbes(1)\n",
    "D, I1 = index.search(xq, k)     # actual search\n",
    "e = time.time()\n",
    "print(I1[-5:])                  # neighbors of the 5 last queries\n",
    "print(\"search time: {}\".format(e-s))\n",
    "print(\"accuracy: {:.1f}%\".format(np.sum(I==I1)/(k*nq)*100))\n",
    "\n",
    "s = time.time()\n",
    "index.setNumProbes(10)         # default nprobe is 1, try a few more\n",
    "D, I2 = index.search(xq, k)\n",
    "e = time.time()\n",
    "print(I2[-5:])                  # neighbors of the 5 last queries\n",
    "print(\"search time: {}\".format(e-s))\n",
    "print(\"accuracy: {:.1f}%\".format(np.sum(I==I2)/(k*nq)*100))"
   ]
  },
  {
   "cell_type": "code",
   "execution_count": null,
   "metadata": {},
   "outputs": [],
   "source": []
  }
 ],
 "metadata": {
  "accelerator": "GPU",
  "colab": {
   "collapsed_sections": [],
   "name": "faiss.ipynb",
   "provenance": [],
   "version": "0.3.2"
  },
  "kernelspec": {
   "display_name": "Python 3",
   "language": "python",
   "name": "python3"
  },
  "language_info": {
   "codemirror_mode": {
    "name": "ipython",
    "version": 3
   },
   "file_extension": ".py",
   "mimetype": "text/x-python",
   "name": "python",
   "nbconvert_exporter": "python",
   "pygments_lexer": "ipython3",
   "version": "3.6.5"
  }
 },
 "nbformat": 4,
 "nbformat_minor": 2
}
